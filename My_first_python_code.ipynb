{
  "nbformat": 4,
  "nbformat_minor": 0,
  "metadata": {
    "colab": {
      "provenance": [],
      "authorship_tag": "ABX9TyMte2lQI47ZeaWM9sE8w+04",
      "include_colab_link": true
    },
    "kernelspec": {
      "name": "python3",
      "display_name": "Python 3"
    },
    "language_info": {
      "name": "python"
    }
  },
  "cells": [
    {
      "cell_type": "markdown",
      "metadata": {
        "id": "view-in-github",
        "colab_type": "text"
      },
      "source": [
        "<a href=\"https://colab.research.google.com/github/BabimBeam/dataviz2025/blob/main/My_first_python_code.ipynb\" target=\"_parent\"><img src=\"https://colab.research.google.com/assets/colab-badge.svg\" alt=\"Open In Colab\"/></a>"
      ]
    },
    {
      "cell_type": "markdown",
      "source": [
        "Here we can write using **Markdown**\n",
        "#intro"
      ],
      "metadata": {
        "id": "hnkcyA3oHvMn"
      }
    },
    {
      "cell_type": "markdown",
      "source": [
        "##name"
      ],
      "metadata": {
        "id": "6R91ee0KIKe3"
      }
    },
    {
      "cell_type": "code",
      "source": [
        "print(\"Chayada\")"
      ],
      "metadata": {
        "colab": {
          "base_uri": "https://localhost:8080/"
        },
        "id": "FHhuAvtmIWKY",
        "outputId": "770dd8ad-36d0-44dd-bee0-1b684cef1e83"
      },
      "execution_count": 1,
      "outputs": [
        {
          "output_type": "stream",
          "name": "stdout",
          "text": [
            "Chayada\n"
          ]
        }
      ]
    },
    {
      "cell_type": "markdown",
      "source": [
        "##surname"
      ],
      "metadata": {
        "id": "yNjf8g1eIWgI"
      }
    },
    {
      "cell_type": "code",
      "source": [
        "print('Pasawet')"
      ],
      "metadata": {
        "colab": {
          "base_uri": "https://localhost:8080/"
        },
        "id": "_uGsjBvrIY0_",
        "outputId": "e7faeb98-58e9-40ac-e195-2572cd39fabb"
      },
      "execution_count": 3,
      "outputs": [
        {
          "output_type": "stream",
          "name": "stdout",
          "text": [
            "Pasawet\n"
          ]
        }
      ]
    }
  ]
}
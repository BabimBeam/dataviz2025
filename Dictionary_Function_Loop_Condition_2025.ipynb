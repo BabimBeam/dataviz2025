{
  "nbformat": 4,
  "nbformat_minor": 0,
  "metadata": {
    "kernelspec": {
      "display_name": "Python 3",
      "language": "python",
      "name": "python3"
    },
    "language_info": {
      "codemirror_mode": {
        "name": "ipython",
        "version": 3
      },
      "file_extension": ".py",
      "mimetype": "text/x-python",
      "name": "python",
      "nbconvert_exporter": "python",
      "pygments_lexer": "ipython3",
      "version": "3.7.4"
    },
    "colab": {
      "provenance": [],
      "toc_visible": true,
      "include_colab_link": true
    }
  },
  "cells": [
    {
      "cell_type": "markdown",
      "metadata": {
        "id": "view-in-github",
        "colab_type": "text"
      },
      "source": [
        "<a href=\"https://colab.research.google.com/github/BabimBeam/dataviz2025/blob/main/Dictionary_Function_Loop_Condition_2025.ipynb\" target=\"_parent\"><img src=\"https://colab.research.google.com/assets/colab-badge.svg\" alt=\"Open In Colab\"/></a>"
      ]
    },
    {
      "cell_type": "markdown",
      "source": [
        "HW1 note"
      ],
      "metadata": {
        "id": "2wnVRxt7Qw8x"
      }
    },
    {
      "cell_type": "code",
      "source": [
        "inp = '12:30:15-13:41:07'\n",
        "inp_list = inp.split('-')\n",
        "inp_list"
      ],
      "metadata": {
        "colab": {
          "base_uri": "https://localhost:8080/"
        },
        "id": "7b9PZ1gTQ0EA",
        "outputId": "b9f21012-312d-450a-dec1-1ecc4893a91c"
      },
      "execution_count": null,
      "outputs": [
        {
          "output_type": "execute_result",
          "data": {
            "text/plain": [
              "['12:30:15', '13:41:07']"
            ]
          },
          "metadata": {},
          "execution_count": 1
        }
      ]
    },
    {
      "cell_type": "markdown",
      "source": [
        "#Dictionary"
      ],
      "metadata": {
        "id": "tAetODl9R45Q"
      }
    },
    {
      "cell_type": "code",
      "source": [
        "dict_a = {'abc':123,'def':456,'ghi':789}"
      ],
      "metadata": {
        "id": "IY9xvmOvR9Jg"
      },
      "execution_count": null,
      "outputs": []
    },
    {
      "cell_type": "code",
      "source": [
        "dict_a"
      ],
      "metadata": {
        "colab": {
          "base_uri": "https://localhost:8080/"
        },
        "id": "Uv2n1Sq5Syia",
        "outputId": "e3ed267e-7cf6-488c-e5ce-2e854d5ece10"
      },
      "execution_count": null,
      "outputs": [
        {
          "output_type": "execute_result",
          "data": {
            "text/plain": [
              "{'abc': 123, 'def': 456, 'ghi': 789}"
            ]
          },
          "metadata": {},
          "execution_count": 2
        }
      ]
    },
    {
      "cell_type": "code",
      "source": [
        "dict_a['def']"
      ],
      "metadata": {
        "colab": {
          "base_uri": "https://localhost:8080/"
        },
        "id": "6osToZ12TDv_",
        "outputId": "210331f8-17e7-43cd-ecee-50af64c5709d"
      },
      "execution_count": null,
      "outputs": [
        {
          "output_type": "execute_result",
          "data": {
            "text/plain": [
              "456"
            ]
          },
          "metadata": {},
          "execution_count": 3
        }
      ]
    },
    {
      "cell_type": "code",
      "source": [
        "dict_b = {}"
      ],
      "metadata": {
        "id": "uZ9VJQqZTLwg"
      },
      "execution_count": null,
      "outputs": []
    },
    {
      "cell_type": "code",
      "source": [
        "dict_b['a'] = 567 #ถ้าเซฟข้อมูลทับข้อมูลเก่าก็จะหายไป คนใหม่เข้ามาคนเก่าก็หายไป"
      ],
      "metadata": {
        "id": "GJxcehUyThWq"
      },
      "execution_count": null,
      "outputs": []
    },
    {
      "cell_type": "code",
      "source": [
        "dict_b"
      ],
      "metadata": {
        "colab": {
          "base_uri": "https://localhost:8080/"
        },
        "id": "Nk7tN3bDTqZw",
        "outputId": "0d598938-15d0-44a1-8cfa-cc4bebc9cd17"
      },
      "execution_count": null,
      "outputs": [
        {
          "output_type": "execute_result",
          "data": {
            "text/plain": [
              "{'a': 567, 'b': 123}"
            ]
          },
          "metadata": {},
          "execution_count": 10
        }
      ]
    },
    {
      "cell_type": "markdown",
      "source": [
        "###การ add สมาชิกเข้าไปใน dict"
      ],
      "metadata": {
        "id": "V6g2g9mxUa6S"
      }
    },
    {
      "cell_type": "code",
      "source": [
        "if 'b' not in dict_b:\n",
        "    dict_b['b'] = 123"
      ],
      "metadata": {
        "id": "0F3DHzTDUmLq"
      },
      "execution_count": null,
      "outputs": []
    },
    {
      "cell_type": "code",
      "source": [
        "dict_b"
      ],
      "metadata": {
        "colab": {
          "base_uri": "https://localhost:8080/"
        },
        "id": "XbXt2qDpUtRh",
        "outputId": "173afdd6-2cc1-4eea-9d7b-f290767f2625"
      },
      "execution_count": null,
      "outputs": [
        {
          "output_type": "execute_result",
          "data": {
            "text/plain": [
              "{'a': 567, 'b': 123}"
            ]
          },
          "metadata": {},
          "execution_count": 12
        }
      ]
    },
    {
      "cell_type": "markdown",
      "metadata": {
        "id": "-57L9aVubPqU"
      },
      "source": [
        "# Function"
      ]
    },
    {
      "cell_type": "markdown",
      "metadata": {
        "id": "1DNzYhO4bPqb"
      },
      "source": [
        "## Function template\n",
        "#### ทำหน้าที่รับ input มาประมวณผลออกมาเป็น output\n",
        "#### f(x) = y"
      ]
    },
    {
      "cell_type": "markdown",
      "metadata": {
        "id": "3Nv1ZDEKbPqc"
      },
      "source": [
        "### def คือการกำหนดฟังก์ชัน"
      ]
    },
    {
      "cell_type": "markdown",
      "metadata": {
        "id": "DbHDoWEabPqc"
      },
      "source": [
        "```python\n",
        "    def function_name(_Input_) :\n",
        "        do_something with _Input_ to get _Output_\n",
        "        return _Output_\n",
        "```"
      ]
    },
    {
      "cell_type": "markdown",
      "metadata": {
        "id": "1fuimreqpVhU"
      },
      "source": [
        "เราใช้ เว้นวรรค (indent) เพื่อบอกขอบเขตของโปรแกรม"
      ]
    },
    {
      "cell_type": "markdown",
      "metadata": {
        "id": "kh2M1smCl5Iv"
      },
      "source": [
        "function มีส่วนสำคัญทั้งหมด 4 ส่วน\n",
        "\n",
        "1.   บอก python ว่าเราจะเขียนฟังก์ชั่น ชื่ออะไร  ```def function_name():``` (ขาดไม่ได้)\n",
        "2.   กำหนดตัวแปรที่จะเป็น input  ```_Input_``` (ขาดได้)\n",
        "3.   ส่วนประมวลผล ```do_something with _Input_ to get _Output_``` (ขาดไม่ได้)\n",
        "4.   ส่วน output ```return _Output_```(ขาดได้)\n",
        "\n"
      ]
    },
    {
      "cell_type": "markdown",
      "metadata": {
        "id": "lqWzVN5AbPqc"
      },
      "source": [
        "#### ตัวอย่างการเขียน normal function\n"
      ]
    },
    {
      "cell_type": "code",
      "source": [
        "def print_myname():   # ตัวอย่าง function ที่ไม่มีทั้ง input และ output\n",
        "    print('Chayada')"
      ],
      "metadata": {
        "id": "6wzfVo_pTefO"
      },
      "execution_count": null,
      "outputs": []
    },
    {
      "cell_type": "code",
      "source": [
        "print_myname()"
      ],
      "metadata": {
        "colab": {
          "base_uri": "https://localhost:8080/"
        },
        "id": "482E9UnsUMkC",
        "outputId": "d3d57e53-bea7-4031-c964-c7284fc48677"
      },
      "execution_count": null,
      "outputs": [
        {
          "output_type": "stream",
          "name": "stdout",
          "text": [
            "Chayada\n"
          ]
        }
      ]
    },
    {
      "cell_type": "code",
      "source": [
        "b = print_myname()"
      ],
      "metadata": {
        "colab": {
          "base_uri": "https://localhost:8080/"
        },
        "id": "RyPan9UxXma8",
        "outputId": "f6811629-183d-43db-e989-4803457949fd"
      },
      "execution_count": null,
      "outputs": [
        {
          "output_type": "stream",
          "name": "stdout",
          "text": [
            "Chayada\n"
          ]
        }
      ]
    },
    {
      "cell_type": "code",
      "source": [
        "b"
      ],
      "metadata": {
        "id": "EP166kYkXrgo"
      },
      "execution_count": null,
      "outputs": []
    },
    {
      "cell_type": "code",
      "metadata": {
        "id": "n706WULobPqc"
      },
      "source": [
        "def print_name(name):        # ตัวอย่าง function ที่ มีครบทุกส่วน\n",
        "    st = f'ชื่อ {name}'\n",
        "    return st"
      ],
      "execution_count": null,
      "outputs": []
    },
    {
      "cell_type": "code",
      "source": [
        "print_name('stat')"
      ],
      "metadata": {
        "colab": {
          "base_uri": "https://localhost:8080/",
          "height": 35
        },
        "id": "gme-fu0wXNU7",
        "outputId": "01b3c5d4-e548-4efc-a058-b988a7b3c33d"
      },
      "execution_count": null,
      "outputs": [
        {
          "output_type": "execute_result",
          "data": {
            "text/plain": [
              "'ชื่อ stat'"
            ],
            "application/vnd.google.colaboratory.intrinsic+json": {
              "type": "string"
            }
          },
          "metadata": {},
          "execution_count": 16
        }
      ]
    },
    {
      "cell_type": "code",
      "source": [
        "a = print_name('stat')"
      ],
      "metadata": {
        "id": "SMDbCdFOXZPR"
      },
      "execution_count": null,
      "outputs": []
    },
    {
      "cell_type": "code",
      "source": [
        "a"
      ],
      "metadata": {
        "colab": {
          "base_uri": "https://localhost:8080/",
          "height": 35
        },
        "id": "nNOxxdkBXcU5",
        "outputId": "178c28e0-379f-46df-fd11-c2c29ac54e1a"
      },
      "execution_count": null,
      "outputs": [
        {
          "output_type": "execute_result",
          "data": {
            "text/plain": [
              "'ชื่อ stat'"
            ],
            "application/vnd.google.colaboratory.intrinsic+json": {
              "type": "string"
            }
          },
          "metadata": {},
          "execution_count": 18
        }
      ]
    },
    {
      "cell_type": "code",
      "source": [
        "def print_fullname(surname,ID,name):\n",
        "  st = f'ชื่อ {name} นามสกุล {surname} รหัส {ID}'\n",
        "  return st"
      ],
      "metadata": {
        "id": "Yw0VW3D9YKvw"
      },
      "execution_count": null,
      "outputs": []
    },
    {
      "cell_type": "code",
      "metadata": {
        "colab": {
          "base_uri": "https://localhost:8080/",
          "height": 35
        },
        "id": "muh0pi_Gkym8",
        "outputId": "720d21e3-3822-49d4-b50c-9bf3d9f1370f"
      },
      "source": [
        "print_fullname('ภาษาเวทย์','663020581-4','ชญาดา')"
      ],
      "execution_count": null,
      "outputs": [
        {
          "output_type": "execute_result",
          "data": {
            "text/plain": [
              "'ชื่อ ชญาดา นามสกุล ภาษาเวทย์ รหัส 663020581-4'"
            ],
            "application/vnd.google.colaboratory.intrinsic+json": {
              "type": "string"
            }
          },
          "metadata": {},
          "execution_count": 23
        }
      ]
    },
    {
      "cell_type": "code",
      "source": [
        "print_name(name='กาญจนา',surname='ประสาคุณ',ID='603021855-2')"
      ],
      "metadata": {
        "colab": {
          "base_uri": "https://localhost:8080/",
          "height": 56
        },
        "id": "vxooaHuHVTDJ",
        "outputId": "25d27066-d51d-471b-f2df-e71d92bc0faf"
      },
      "execution_count": null,
      "outputs": [
        {
          "output_type": "execute_result",
          "data": {
            "text/plain": [
              "'ชื่อ กาญจนา นามสกุล ประสาคุณ รหัส 603021855-2'"
            ],
            "application/vnd.google.colaboratory.intrinsic+json": {
              "type": "string"
            }
          },
          "metadata": {},
          "execution_count": 6
        }
      ]
    },
    {
      "cell_type": "markdown",
      "metadata": {
        "id": "tSV-FUQBpx0i"
      },
      "source": [
        "ฟังก์ชั่นไม่จำเป็นต้องมี output"
      ]
    },
    {
      "cell_type": "code",
      "metadata": {
        "id": "loNAFSvLo5dC"
      },
      "source": [
        "def print_name2(surname,ID,name):\n",
        "    st = f'ชื่อ {name} นามสกุล {surname} รหัส {ID}'\n",
        "    print(st)"
      ],
      "execution_count": null,
      "outputs": []
    },
    {
      "cell_type": "code",
      "metadata": {
        "colab": {
          "base_uri": "https://localhost:8080/"
        },
        "id": "JE88oCj8o_j_",
        "outputId": "18324bb0-1952-4a72-ed13-e117e91f6177"
      },
      "source": [
        "print_name2(name='กาญจนา',surname='ประสาคุณ',ID='603021855-2')"
      ],
      "execution_count": null,
      "outputs": [
        {
          "output_type": "stream",
          "name": "stdout",
          "text": [
            "ชื่อ กาญจนา นามสกุล ประสาคุณ รหัส 603021855-2\n"
          ]
        }
      ]
    },
    {
      "cell_type": "markdown",
      "source": [
        "### ข้อแตกต่างระหว่าง function ที่มีและไม่มี output"
      ],
      "metadata": {
        "id": "dW328wxLWauv"
      }
    },
    {
      "cell_type": "code",
      "source": [
        "out_printname1 = print_fullname(name='กาญจนา',surname='ประสาคุณ',ID='603021855-2') # มี output\n",
        "print(out_printname1)"
      ],
      "metadata": {
        "colab": {
          "base_uri": "https://localhost:8080/"
        },
        "id": "Ae6C6-DTWFOD",
        "outputId": "48421e79-458e-4823-c62f-4c8bbd845521"
      },
      "execution_count": null,
      "outputs": [
        {
          "output_type": "stream",
          "name": "stdout",
          "text": [
            "ชื่อ กาญจนา นามสกุล ประสาคุณ รหัส 603021855-2\n"
          ]
        }
      ]
    },
    {
      "cell_type": "code",
      "source": [
        "out_printname1"
      ],
      "metadata": {
        "colab": {
          "base_uri": "https://localhost:8080/",
          "height": 35
        },
        "id": "yPtH94N0WtsE",
        "outputId": "83178fcc-81cf-4e19-9399-c35197e89548"
      },
      "execution_count": null,
      "outputs": [
        {
          "output_type": "execute_result",
          "data": {
            "text/plain": [
              "'ชื่อ กาญจนา นามสกุล ประสาคุณ รหัส 603021855-2'"
            ],
            "application/vnd.google.colaboratory.intrinsic+json": {
              "type": "string"
            }
          },
          "metadata": {},
          "execution_count": 25
        }
      ]
    },
    {
      "cell_type": "code",
      "source": [
        "out_printname2 = print_name2(name='กาญจนา',surname='ประสาคุณ',ID='603021855-2')  # ไม่มี output\n",
        "print(out_printname2)"
      ],
      "metadata": {
        "colab": {
          "base_uri": "https://localhost:8080/"
        },
        "id": "AbT5pKVYWRBn",
        "outputId": "98f5083f-f067-4333-d488-ea900065dac2"
      },
      "execution_count": null,
      "outputs": [
        {
          "output_type": "stream",
          "name": "stdout",
          "text": [
            "ชื่อ กาญจนา นามสกุล ประสาคุณ รหัส 603021855-2\n",
            "None\n"
          ]
        }
      ]
    },
    {
      "cell_type": "code",
      "source": [
        "out_printname2"
      ],
      "metadata": {
        "id": "l_fW68dyXDw3"
      },
      "execution_count": null,
      "outputs": []
    },
    {
      "cell_type": "markdown",
      "metadata": {
        "id": "JF4RdyEBqPyl"
      },
      "source": [
        "ฟังก์ชั่นไม่จำเป็นต้องมี input"
      ]
    },
    {
      "cell_type": "code",
      "metadata": {
        "id": "LNb_o_ZXo_gh"
      },
      "source": [
        "def Pi():\n",
        "    return 3.14159265359"
      ],
      "execution_count": null,
      "outputs": []
    },
    {
      "cell_type": "code",
      "metadata": {
        "colab": {
          "base_uri": "https://localhost:8080/"
        },
        "id": "htN6zLbFo_dr",
        "outputId": "d5264ae3-3f3c-42c2-dd84-efc1f50e0202"
      },
      "source": [
        "Pi()*(2**2) # หาพื้นที่ของวงกลมที่มีรัศมีเท่ากับ Pi * r^2"
      ],
      "execution_count": null,
      "outputs": [
        {
          "output_type": "execute_result",
          "data": {
            "text/plain": [
              "12.56637061436"
            ]
          },
          "metadata": {},
          "execution_count": 33
        }
      ]
    },
    {
      "cell_type": "markdown",
      "metadata": {
        "id": "ywc0Ho-_rUTu"
      },
      "source": [
        "## เราสามารถกำหนดค่า default ให้กับ input ของฟังก์ชั่นได้"
      ]
    },
    {
      "cell_type": "markdown",
      "metadata": {
        "id": "y_74dHkjxS7f"
      },
      "source": [
        "input ของ function ใน python มีสองแบบ input ที่จำเป็นต้องใส่ กับ input ที่ไม่จำเป็นต้องใส่ (มีค่า default)\n",
        "\n",
        "เราต้องเรียง input ที่จำเป็นต้องใส่ขึ้นก่อน"
      ]
    },
    {
      "cell_type": "code",
      "metadata": {
        "id": "0Lrh-6mAo_bA"
      },
      "source": [
        "def print_2lines_default(name,surname,ID,grade='F'):\n",
        "    st = f'ชื่อ {name} นามสกุล {surname} รหัส {ID}'\n",
        "    print (st)\n",
        "    st2=f'เกรดวิชา Data Viz >>> {grade}'\n",
        "    print(st2)"
      ],
      "execution_count": null,
      "outputs": []
    },
    {
      "cell_type": "code",
      "metadata": {
        "colab": {
          "base_uri": "https://localhost:8080/"
        },
        "id": "ZH31VIjko_WP",
        "outputId": "cd5fbd0d-f683-4401-b387-844193bda808"
      },
      "source": [
        "print_2lines_default('ชญาดา','ภาษาเวทย์','663020581-4')"
      ],
      "execution_count": null,
      "outputs": [
        {
          "output_type": "stream",
          "name": "stdout",
          "text": [
            "ชื่อ ชญาดา นามสกุล ภาษาเวทย์ รหัส 663020581-4\n",
            "เกรดวิชา Data Viz >>> F\n"
          ]
        }
      ]
    },
    {
      "cell_type": "code",
      "metadata": {
        "colab": {
          "base_uri": "https://localhost:8080/"
        },
        "id": "FKGr2Iyuo_S2",
        "outputId": "5ccbf7a6-1d9d-433b-a91a-939684880853"
      },
      "source": [
        "print_2lines_default('ชญาดา','ภาษาเวทย์','663020581-4','A')"
      ],
      "execution_count": null,
      "outputs": [
        {
          "output_type": "stream",
          "name": "stdout",
          "text": [
            "ชื่อ ชญาดา นามสกุล ภาษาเวทย์ รหัส 663020581-4\n",
            "เกรดวิชา Data Viz >>> A\n"
          ]
        }
      ]
    },
    {
      "cell_type": "code",
      "source": [
        "print_2lines_default('ชญาดา','ภาษาเวทย์','663020581-4',grade = 'A')"
      ],
      "metadata": {
        "colab": {
          "base_uri": "https://localhost:8080/"
        },
        "id": "Au_P2Cm8ZDXL",
        "outputId": "d0c46d53-a43f-40fb-cee0-4ac4bec20d75"
      },
      "execution_count": null,
      "outputs": [
        {
          "output_type": "stream",
          "name": "stdout",
          "text": [
            "ชื่อ ชญาดา นามสกุล ภาษาเวทย์ รหัส 663020581-4\n",
            "เกรดวิชา Data Viz >>> A\n"
          ]
        }
      ]
    },
    {
      "cell_type": "code",
      "source": [
        "print_2lines_default('ชญาดา','ภาษาเวทย์')"
      ],
      "metadata": {
        "colab": {
          "base_uri": "https://localhost:8080/",
          "height": 141
        },
        "id": "cLGa_pO1Zv1U",
        "outputId": "db0ceb56-bebc-451d-85e5-260dbb556b32"
      },
      "execution_count": null,
      "outputs": [
        {
          "output_type": "error",
          "ename": "TypeError",
          "evalue": "print_2lines_default() missing 1 required positional argument: 'ID'",
          "traceback": [
            "\u001b[0;31m---------------------------------------------------------------------------\u001b[0m",
            "\u001b[0;31mTypeError\u001b[0m                                 Traceback (most recent call last)",
            "\u001b[0;32m/tmp/ipython-input-45-3445022063.py\u001b[0m in \u001b[0;36m<cell line: 0>\u001b[0;34m()\u001b[0m\n\u001b[0;32m----> 1\u001b[0;31m \u001b[0mprint_2lines_default\u001b[0m\u001b[0;34m(\u001b[0m\u001b[0;34m'ชญาดา'\u001b[0m\u001b[0;34m,\u001b[0m\u001b[0;34m'ภาษาเวทย์'\u001b[0m\u001b[0;34m)\u001b[0m\u001b[0;34m\u001b[0m\u001b[0;34m\u001b[0m\u001b[0m\n\u001b[0m",
            "\u001b[0;31mTypeError\u001b[0m: print_2lines_default() missing 1 required positional argument: 'ID'"
          ]
        }
      ]
    },
    {
      "cell_type": "markdown",
      "source": [
        "# Quiz5\n",
        "เขียน function ของ HW2"
      ],
      "metadata": {
        "id": "Alh7JMwDa1k1"
      }
    },
    {
      "cell_type": "code",
      "source": [
        "def cal_dif_secs(timeinput):\n",
        "    timelist = timeinput.split('-')\n",
        "    time1 = timelist[0].split(':')\n",
        "    time2 = timelist[1].split(':')\n",
        "    time1_sec = int(time1[0])*3600 + int(time1[1])*60 + int(time1[2])\n",
        "    time2_sec = int(time2[0])*3600 + int(time2[1])*60 + int(time2[2])\n",
        "    dif_sec = time2_sec - time1_sec\n",
        "    return dif_sec"
      ],
      "metadata": {
        "id": "Y_cPWPKzewFM"
      },
      "execution_count": null,
      "outputs": []
    },
    {
      "cell_type": "code",
      "source": [
        "cal_dif_secs('12:30:15-13:41:07')"
      ],
      "metadata": {
        "colab": {
          "base_uri": "https://localhost:8080/"
        },
        "id": "1lO3BaYJfUuF",
        "outputId": "e85344df-baad-4dd5-9955-684fd865cdfc"
      },
      "execution_count": null,
      "outputs": [
        {
          "output_type": "execute_result",
          "data": {
            "text/plain": [
              "4252"
            ]
          },
          "metadata": {},
          "execution_count": 19
        }
      ]
    },
    {
      "cell_type": "markdown",
      "source": [
        "# Quiz3.5\n",
        "\n",
        "รับ input 2 ตัว โดยตั้งค่า default time1 เป็น 00:00:00"
      ],
      "metadata": {
        "id": "GMMe5F1zgNV5"
      }
    },
    {
      "cell_type": "code",
      "source": [
        "#เขียน function คำนวณช่วงเวลาวินาที เอาแบบไม่ใช้ map\n",
        "def calculate_duration_seconds(start_datetime_str, end_datetime_str):\n",
        "    days_of_week = ['Monday', 'Tuesday', 'Wednesday', 'Thursday', 'Friday', 'Saturday', 'Sunday']\n",
        "\n",
        "    # แยกวันและเวลา\n",
        "    start_time_day = start_datetime_str.split(', ')\n",
        "    end_time_day = end_datetime_str.split(', ')\n",
        "\n",
        "    start_time = start_time_day[0]\n",
        "    start_day = start_time_day[1]\n",
        "\n",
        "    end_time = end_time_day[0]\n",
        "    end_day = end_time_day[1]\n",
        "\n",
        "    # แยกชั่วโมง นาที วินาที สำหรับเวลาเริ่มต้น\n",
        "    h1_str, m1_str, s1_str = start_time.split(':')\n",
        "    h1 = int(h1_str)\n",
        "    m1 = int(m1_str)\n",
        "    s1 = int(s1_str)\n",
        "    start_seconds = h1 * 3600 + m1 * 60 + s1\n",
        "\n",
        "    # แยกชั่วโมง นาที วินาที สำหรับเวลาสิ้นสุด\n",
        "    h2_str, m2_str, s2_str = end_time.split(':')\n",
        "    h2 = int(h2_str)\n",
        "    m2 = int(m2_str)\n",
        "    s2 = int(s2_str)\n",
        "    end_seconds = h2 * 3600 + m2 * 60 + s2\n",
        "\n",
        "    # หาลำดับวันในสัปดาห์\n",
        "    start_day_index = days_of_week.index(start_day)\n",
        "    end_day_index = days_of_week.index(end_day)\n",
        "\n",
        "    # คำนวณความต่างของวันแบบวนรอบ\n",
        "    day_diff = (end_day_index - start_day_index) % 7\n",
        "\n",
        "    # คำนวณเวลาทั้งหมดเป็นวินาที\n",
        "    total_seconds = day_diff * 24 * 3600 + (end_seconds - start_seconds)\n",
        "\n",
        "    # ถ้าเวลาติดลบ ให้เพิ่มอีก 1 สัปดาห์\n",
        "    if total_seconds < 0:\n",
        "        total_seconds += 7 * 24 * 3600\n",
        "\n",
        "    return total_seconds\n"
      ],
      "metadata": {
        "id": "N3Wuw8y_cgTA"
      },
      "execution_count": null,
      "outputs": []
    },
    {
      "cell_type": "code",
      "source": [
        "start = '16:06:09, Sunday'\n",
        "end = '11:11:11, Tuesday'\n",
        "\n",
        "duration = calculate_duration_seconds(start, end)\n",
        "print(f\"ช่วงเวลาคือ {duration} วินาที\")"
      ],
      "metadata": {
        "colab": {
          "base_uri": "https://localhost:8080/"
        },
        "id": "ylKNeAVncjV4",
        "outputId": "d7d1e29f-23fc-44ea-a0a5-99da3ee45eed"
      },
      "execution_count": null,
      "outputs": [
        {
          "output_type": "stream",
          "name": "stdout",
          "text": [
            "ช่วงเวลาคือ 155102 วินาที\n"
          ]
        }
      ]
    },
    {
      "cell_type": "code",
      "source": [
        "start = '16:06:09, Sunday'\n",
        "end = '11:11:11, Tuesday'\n",
        "\n",
        "print(calculate_duration_seconds(start, end))  # ผลลัพธ์: จำนวนวินาทีที่ห่างกัน\n"
      ],
      "metadata": {
        "colab": {
          "base_uri": "https://localhost:8080/"
        },
        "id": "Ip986f8_f1bJ",
        "outputId": "deb6a71a-a1b1-48c9-e0ca-8222605c2e62"
      },
      "execution_count": null,
      "outputs": [
        {
          "output_type": "stream",
          "name": "stdout",
          "text": [
            "155102\n"
          ]
        }
      ]
    },
    {
      "cell_type": "markdown",
      "source": [
        "###Quiz6\n",
        "เขียน funtion ของ HW2 --> มีการใช้ค่า Default ของ input โดยถ้าวันที่กรอกเป็นวันเดียวกันให้ไม่ต้องกรอกเลยหรือกรอกแค่ 1 ตัว"
      ],
      "metadata": {
        "id": "lK4eaCv8f6J5"
      }
    },
    {
      "cell_type": "markdown",
      "source": [
        "12:30:15, Wednesday - 13:41:07, Thursday\n",
        "\n",
        "12:53:15, Monday - 00:59:25, Tuesday\n",
        "\n",
        "16:06:09, Sunday - 11:11:11, Tuesday"
      ],
      "metadata": {
        "id": "Fg1cRWUtijbR"
      }
    },
    {
      "cell_type": "code",
      "source": [
        "def calculate_duration_hw2(start, end_time, end_day=None):\n",
        "    days = ['Monday', 'Tuesday', 'Wednesday', 'Thursday', 'Friday', 'Saturday', 'Sunday']\n",
        "\n",
        "    # แยกเวลาและวันจาก start\n",
        "    start_time, start_day = start.split(', ')\n",
        "    h1, m1, s1 = start_time.split(':')\n",
        "    start_seconds = int(h1) * 3600 + int(m1) * 60 + int(s1)\n",
        "\n",
        "    # ถ้าไม่ระบุ end_day ใช้วันเดียวกับ start_day\n",
        "    if end_day is None:\n",
        "        end_day = start_day\n",
        "\n",
        "    h2, m2, s2 = end_time.split(':')\n",
        "    end_seconds = int(h2) * 3600 + int(m2) * 60 + int(s2)\n",
        "\n",
        "    # หา index ของวัน\n",
        "    start_day_index = days.index(start_day)\n",
        "    end_day_index = days.index(end_day)\n",
        "\n",
        "    # คำนวณจำนวนวันที่ต่างกันแบบวนรอบ\n",
        "    day_diff = (end_day_index - start_day_index) % 7\n",
        "\n",
        "    # คำนวณเวลาทั้งหมด\n",
        "    total_seconds = day_diff * 86400 + (end_seconds - start_seconds)\n",
        "\n",
        "    # ถ้าเวลาติดลบ แสดงว่าเวลาสิ้นสุดจริงๆ อยู่ในสัปดาห์ถัดไป\n",
        "    if total_seconds < 0:\n",
        "        total_seconds += 7 * 86400\n",
        "\n",
        "    return total_seconds\n"
      ],
      "metadata": {
        "id": "BsaoCr0GgrDZ"
      },
      "execution_count": null,
      "outputs": []
    },
    {
      "cell_type": "code",
      "source": [
        "# วันเดียวกัน ไม่ต้องกรอก end_day\n",
        "print(f\"ใช้เวลา\",calculate_duration_hw2('12:30:15, Wednesday', '13:41:07'),\"วินาที\")\n",
        "\n",
        "# คนละวัน กรอกวันเพิ่ม\n",
        "print(f\"ใช้เวลา\",calculate_duration_hw2('12:53:15, Monday', '00:59:25', \"Tuesday\"),\"วินาที\")\n",
        "\n",
        "# ข้ามสัปดาห์\n",
        "print(f\"ใช้เวลา\",calculate_duration_hw2('16:06:09, Sunday', '11:11:11', \"Tuesday\"),\"วินาที\")"
      ],
      "metadata": {
        "colab": {
          "base_uri": "https://localhost:8080/"
        },
        "id": "ysxyXp7xf4rx",
        "outputId": "edb83024-41f7-4fdd-b95f-5bf62bfec91c"
      },
      "execution_count": null,
      "outputs": [
        {
          "output_type": "stream",
          "name": "stdout",
          "text": [
            "ใช้เวลา 4252 วินาที\n",
            "ใช้เวลา 43570 วินาที\n",
            "ใช้เวลา 155102 วินาที\n"
          ]
        }
      ]
    },
    {
      "cell_type": "code",
      "source": [
        "# ตัวอย่าง 1\n",
        "total_seconds1 = calculate_duration_hw2('12:30:15, Wednesday', '13:41:07')\n",
        "days1 = total_seconds1 // 86400\n",
        "print(f\"▶ รวม {total_seconds1} วินาที = {days1} วัน\")\n",
        "\n",
        "# ตัวอย่าง 2\n",
        "total_seconds2 = calculate_duration_hw2('12:53:15, Monday', '00:59:25', 'Tuesday')\n",
        "days2 = total_seconds2 // 86400\n",
        "print(f\"▶ รวม {total_seconds2} วินาที = {days2} วัน\")\n",
        "\n",
        "# ตัวอย่าง 3\n",
        "total_seconds3 = calculate_duration_hw2('16:06:09, Sunday', '11:11:11', 'Tuesday')\n",
        "days3 = total_seconds3 // 86400\n",
        "print(f\"▶ รวม {total_seconds3} วินาที = {days3} วัน\")\n"
      ],
      "metadata": {
        "colab": {
          "base_uri": "https://localhost:8080/"
        },
        "id": "2tI2Vs2Zjj7S",
        "outputId": "fa85ce66-6712-4bda-dc73-37d521c0748f"
      },
      "execution_count": null,
      "outputs": [
        {
          "output_type": "stream",
          "name": "stdout",
          "text": [
            "▶ รวม 4252 วินาที = 0 วัน\n",
            "▶ รวม 43570 วินาที = 0 วัน\n",
            "▶ รวม 155102 วินาที = 1 วัน\n"
          ]
        }
      ]
    },
    {
      "cell_type": "markdown",
      "source": [
        "## HW2\n",
        "\n",
        "วนลูป หา ช่วงเวลาเป็นวินาที ที่ห่างกันระหว่า time1 และ time2 ต่อไปนี้\n",
        "\n",
        "\n",
        "1. 18:09:10 - 18:25:10\n",
        "2. 13:38:39 - 23:54:39\n",
        "3. 16:49:58 - 18:05:58\n",
        "4. 21:49:10 - 22:24:10\n",
        "5. 08:52:21 - 09:25:21\n",
        "6. 06:56:26 - 07:49:26\n",
        "7. 12:08:05 - 12:43:05\n",
        "8. 01:48:38 - 07:18:38\n",
        "9. 08:51:21 - 10:17:21\n",
        "10. 17:05:17 - 18:09:17"
      ],
      "metadata": {
        "id": "Y60TMz5ijb_S"
      }
    },
    {
      "cell_type": "code",
      "source": [
        "# รายการช่วงเวลา\n",
        "time_pairs = [\n",
        "    ('18:09:10', '18:25:10'),\n",
        "    ('13:38:39', '23:54:39'),\n",
        "    ('16:49:58', '18:05:58'),\n",
        "    ('21:49:10', '22:24:10'),\n",
        "    ('08:52:21', '09:25:21'),\n",
        "    ('06:56:26', '07:49:26'),\n",
        "    ('12:08:05', '12:43:05'),\n",
        "    ('01:48:38', '07:18:38'),\n",
        "    ('08:51:21', '10:17:21'),\n",
        "    ('17:05:17', '18:09:17')\n",
        "]\n",
        "\n",
        "# ฟังก์ชันแปลงเวลาเป็นวินาที\n",
        "def time_to_seconds(t):\n",
        "    h, m, s = t.split(':')\n",
        "    return int(h) * 3600 + int(m) * 60 + int(s)\n",
        "\n",
        "# วนลูปคำนวณช่วงเวลา\n",
        "for i, (t1, t2) in enumerate(time_pairs, start=1):\n",
        "    seconds1 = time_to_seconds(t1)\n",
        "    seconds2 = time_to_seconds(t2)\n",
        "    duration = seconds2 - seconds1\n",
        "    print(f\"{i}. {t1} ถึง {t2} → {duration} วินาที\")\n"
      ],
      "metadata": {
        "colab": {
          "base_uri": "https://localhost:8080/"
        },
        "id": "9KABnyJckVRZ",
        "outputId": "577cb5eb-93a9-4533-fde5-5d5d78748276"
      },
      "execution_count": null,
      "outputs": [
        {
          "output_type": "stream",
          "name": "stdout",
          "text": [
            "1. 18:09:10 ถึง 18:25:10 → 960 วินาที\n",
            "2. 13:38:39 ถึง 23:54:39 → 36960 วินาที\n",
            "3. 16:49:58 ถึง 18:05:58 → 4560 วินาที\n",
            "4. 21:49:10 ถึง 22:24:10 → 2100 วินาที\n",
            "5. 08:52:21 ถึง 09:25:21 → 1980 วินาที\n",
            "6. 06:56:26 ถึง 07:49:26 → 3180 วินาที\n",
            "7. 12:08:05 ถึง 12:43:05 → 2100 วินาที\n",
            "8. 01:48:38 ถึง 07:18:38 → 19800 วินาที\n",
            "9. 08:51:21 ถึง 10:17:21 → 5160 วินาที\n",
            "10. 17:05:17 ถึง 18:09:17 → 3840 วินาที\n"
          ]
        }
      ]
    },
    {
      "cell_type": "code",
      "source": [
        "print('abc','def')"
      ],
      "metadata": {
        "colab": {
          "base_uri": "https://localhost:8080/"
        },
        "id": "C_4VJj8sk3jc",
        "outputId": "79fba91d-935e-4609-f579-dfdfeaeec2c7"
      },
      "execution_count": null,
      "outputs": [
        {
          "output_type": "stream",
          "name": "stdout",
          "text": [
            "abc def\n"
          ]
        }
      ]
    },
    {
      "cell_type": "code",
      "source": [
        "print('abc','def',sep='+')"
      ],
      "metadata": {
        "colab": {
          "base_uri": "https://localhost:8080/"
        },
        "id": "Y5Fcq2g5k_8o",
        "outputId": "d129c9b7-ee7f-43b8-e0ec-c44a5bc284e6"
      },
      "execution_count": null,
      "outputs": [
        {
          "output_type": "stream",
          "name": "stdout",
          "text": [
            "abc+def\n"
          ]
        }
      ]
    },
    {
      "cell_type": "markdown",
      "metadata": {
        "id": "UB5fTAr3bPqg"
      },
      "source": [
        "# LOOP การวนซ้ำ"
      ]
    },
    {
      "cell_type": "markdown",
      "metadata": {
        "id": "gpIwjDjg0gfJ"
      },
      "source": [
        "for เป็นคำที่ใช้บอก python ว่าเรากำลังเขียน loop\n",
        "โดย for จะวนดึงสมาชิกจาก ```listA``` มาทำ process ```do_something```"
      ]
    },
    {
      "cell_type": "markdown",
      "metadata": {
        "id": "6XS2wO4_bPqg"
      },
      "source": [
        "```python\n",
        "    for each_member in listA :\n",
        "        do_something\n",
        "```"
      ]
    },
    {
      "cell_type": "markdown",
      "metadata": {
        "id": "d7kQ2AEcbPqg"
      },
      "source": [
        "#### คำสั่ง for เป็นคำสั่งวนซ้ำที่ใช้ควบคุมการทำงานซ้ำๆ ในจำนวนรอบที่แน่นอน"
      ]
    },
    {
      "cell_type": "code",
      "metadata": {
        "colab": {
          "base_uri": "https://localhost:8080/"
        },
        "id": "NcT-s7TEbPqg",
        "outputId": "fe49758f-c88b-4298-a2fb-c4f064994b11"
      },
      "source": [
        "for i in [1,2,3] :\n",
        "    o = i**2\n",
        "    print (f'this member = {i} after process = {o}')"
      ],
      "execution_count": null,
      "outputs": [
        {
          "output_type": "stream",
          "name": "stdout",
          "text": [
            "this member = 1 after process = 1\n",
            "this member = 2 after process = 4\n",
            "this member = 3 after process = 9\n"
          ]
        }
      ]
    },
    {
      "cell_type": "markdown",
      "metadata": {
        "id": "YbnFaiU2bPqg"
      },
      "source": [
        "#### ตัวอย่างการใช้คำสั่ง for ในการวนซ้ำค่าของ i เมื่อ i คือ 'Thanapong' และคำสั่ง print(f'{i} -> /') เพื่อกำหนดให้ผลลัพธ์แสดงสัญลักษณ์ -> /  จากนั้นเพิ่มคำสั่ง print(' ') อีกครั้งเพื่อให้ผลลัพธ์มีการเว้นวรรค¶"
      ]
    },
    {
      "cell_type": "code",
      "source": [
        "for i in 'Thanapong':\n",
        "    print(i,end= '-> /\\n')"
      ],
      "metadata": {
        "colab": {
          "base_uri": "https://localhost:8080/"
        },
        "id": "XPiHwF46-wPz",
        "outputId": "32117ba1-c8ba-4434-9516-e8aa4b384e2a"
      },
      "execution_count": null,
      "outputs": [
        {
          "output_type": "stream",
          "name": "stdout",
          "text": [
            "T-> /\n",
            "h-> /\n",
            "a-> /\n",
            "n-> /\n",
            "a-> /\n",
            "p-> /\n",
            "o-> /\n",
            "n-> /\n",
            "g-> /\n"
          ]
        }
      ]
    },
    {
      "cell_type": "code",
      "metadata": {
        "id": "kstoI_CEbPqh",
        "outputId": "8399bee6-3bbb-4938-d356-e8daeaac64cf",
        "colab": {
          "base_uri": "https://localhost:8080/"
        }
      },
      "source": [
        "for i in 'Thanapong':\n",
        "    print(f'{i} -> / ' )"
      ],
      "execution_count": null,
      "outputs": [
        {
          "output_type": "stream",
          "name": "stdout",
          "text": [
            "T -> / \n",
            "h -> / \n",
            "a -> / \n",
            "n -> / \n",
            "a -> / \n",
            "p -> / \n",
            "o -> / \n",
            "n -> / \n",
            "g -> / \n"
          ]
        }
      ]
    },
    {
      "cell_type": "code",
      "metadata": {
        "id": "mQmh0Ip-V8qR",
        "outputId": "bfd7289d-f5cb-4e5d-bac8-02a6985a6d1a",
        "colab": {
          "base_uri": "https://localhost:8080/"
        }
      },
      "source": [
        "for i in 'Thanapong':\n",
        "    print(f'{i} -> / ' ,end = '') #สั่งให้ print แบบ ไม่เว้นบรรทัด"
      ],
      "execution_count": null,
      "outputs": [
        {
          "output_type": "stream",
          "name": "stdout",
          "text": [
            "T -> / h -> / a -> / n -> / a -> / p -> / o -> / n -> / g -> / "
          ]
        }
      ]
    },
    {
      "cell_type": "markdown",
      "metadata": {
        "id": "3_I0IHOqXMIr"
      },
      "source": [
        "## สร้าง list ตัวเลขแบบอัตโนมัติ  range()"
      ]
    },
    {
      "cell_type": "code",
      "metadata": {
        "id": "ensAuLXBW-0P",
        "outputId": "e73e37e9-cdcf-47c4-f47a-765e7188860c",
        "colab": {
          "base_uri": "https://localhost:8080/"
        }
      },
      "source": [
        "range5_output = range(5)\n",
        "print(list(range5_output))"
      ],
      "execution_count": null,
      "outputs": [
        {
          "output_type": "stream",
          "name": "stdout",
          "text": [
            "[0, 1, 2, 3, 4]\n"
          ]
        }
      ]
    },
    {
      "cell_type": "code",
      "metadata": {
        "id": "r8JXggPKXrEx",
        "outputId": "bcb4fe84-093e-4623-d62c-2c227d1cceec",
        "colab": {
          "base_uri": "https://localhost:8080/"
        }
      },
      "source": [
        "for i in range(100):\n",
        "    print('งง',end=' ')"
      ],
      "execution_count": null,
      "outputs": [
        {
          "output_type": "stream",
          "name": "stdout",
          "text": [
            "งง งง งง งง งง งง งง งง งง งง งง งง งง งง งง งง งง งง งง งง งง งง งง งง งง งง งง งง งง งง งง งง งง งง งง งง งง งง งง งง งง งง งง งง งง งง งง งง งง งง งง งง งง งง งง งง งง งง งง งง งง งง งง งง งง งง งง งง งง งง งง งง งง งง งง งง งง งง งง งง งง งง งง งง งง งง งง งง งง งง งง งง งง งง งง งง งง งง งง งง "
          ]
        }
      ]
    },
    {
      "cell_type": "code",
      "metadata": {
        "id": "RLvhNqw8YpKa",
        "outputId": "19ae69a5-474b-4d30-f4ce-bdeddf084c71",
        "colab": {
          "base_uri": "https://localhost:8080/"
        }
      },
      "source": [
        "list(range(1,11)) #เริ่มต้นเป็นวงทึบ จบเป็นวงกลมโปร่ง เหมือน list slicing"
      ],
      "execution_count": null,
      "outputs": [
        {
          "output_type": "execute_result",
          "data": {
            "text/plain": [
              "[1, 2, 3, 4, 5, 6, 7, 8, 9, 10]"
            ]
          },
          "metadata": {},
          "execution_count": 27
        }
      ]
    },
    {
      "cell_type": "code",
      "metadata": {
        "id": "MqXQ9NLGcW-r",
        "outputId": "ab839a9f-525a-40d4-b7d1-4b8f0d4de3a7",
        "colab": {
          "base_uri": "https://localhost:8080/"
        }
      },
      "source": [
        "list(range(-3,20,4))"
      ],
      "execution_count": null,
      "outputs": [
        {
          "output_type": "execute_result",
          "data": {
            "text/plain": [
              "[-3, 1, 5, 9, 13, 17]"
            ]
          },
          "metadata": {},
          "execution_count": 28
        }
      ]
    },
    {
      "cell_type": "markdown",
      "source": [
        "##วนลูปโดยไม่สนใจทั้งสมาชิกและลำดับ"
      ],
      "metadata": {
        "id": "YBtUjAXsAR90"
      }
    },
    {
      "cell_type": "code",
      "source": [
        "index = 0\n",
        "for i in 'Chayada':\n",
        "    print(f'สมาชิก {i} เป็นลำดับที่ {index}')\n",
        "    index += 1"
      ],
      "metadata": {
        "colab": {
          "base_uri": "https://localhost:8080/"
        },
        "id": "GReBvBm8AhPN",
        "outputId": "f7e729b1-4479-4532-d728-2bfebc2e23db"
      },
      "execution_count": null,
      "outputs": [
        {
          "output_type": "stream",
          "name": "stdout",
          "text": [
            "สมาชิก C เป็นลำดับที่ 0\n",
            "สมาชิก h เป็นลำดับที่ 1\n",
            "สมาชิก a เป็นลำดับที่ 2\n",
            "สมาชิก y เป็นลำดับที่ 3\n",
            "สมาชิก a เป็นลำดับที่ 4\n",
            "สมาชิก d เป็นลำดับที่ 5\n",
            "สมาชิก a เป็นลำดับที่ 6\n"
          ]
        }
      ]
    },
    {
      "cell_type": "code",
      "source": [
        "for i,index in enumerate('Chayada'):\n",
        "    print(f'สมาชิก {i} เป็นลำดับที่ {index}')"
      ],
      "metadata": {
        "colab": {
          "base_uri": "https://localhost:8080/"
        },
        "id": "FHNK90SsA--r",
        "outputId": "6a1a122d-b4f8-4fe1-941a-5a92a7665a87"
      },
      "execution_count": null,
      "outputs": [
        {
          "output_type": "stream",
          "name": "stdout",
          "text": [
            "สมาชิก 0 เป็นลำดับที่ C\n",
            "สมาชิก 1 เป็นลำดับที่ h\n",
            "สมาชิก 2 เป็นลำดับที่ a\n",
            "สมาชิก 3 เป็นลำดับที่ y\n",
            "สมาชิก 4 เป็นลำดับที่ a\n",
            "สมาชิก 5 เป็นลำดับที่ d\n",
            "สมาชิก 6 เป็นลำดับที่ a\n"
          ]
        }
      ]
    },
    {
      "cell_type": "markdown",
      "metadata": {
        "id": "vPcR4tJebPqi"
      },
      "source": [
        "### loop in loop\n",
        "#### สามารถใช้ for loop ซ้อนกันสองรอบได้¶"
      ]
    },
    {
      "cell_type": "code",
      "metadata": {
        "id": "TKRcpd5DbPqi",
        "outputId": "d1aaef41-6da0-4ffa-8989-f6198267f60e",
        "colab": {
          "base_uri": "https://localhost:8080/"
        }
      },
      "source": [
        "for name1 in  range(2,5): #(2, 3, 4)\n",
        "    print(f'now name1 = {name1}')\n",
        "    for name2 in  range(1,13):\n",
        "        print('  ', name1,' x ',name2,' = ',name1*name2)\n",
        "    print('the inner loop is end')"
      ],
      "execution_count": null,
      "outputs": [
        {
          "output_type": "stream",
          "name": "stdout",
          "text": [
            "now name1 = 2\n",
            "   2  x  1  =  2\n",
            "   2  x  2  =  4\n",
            "   2  x  3  =  6\n",
            "   2  x  4  =  8\n",
            "   2  x  5  =  10\n",
            "   2  x  6  =  12\n",
            "   2  x  7  =  14\n",
            "   2  x  8  =  16\n",
            "   2  x  9  =  18\n",
            "   2  x  10  =  20\n",
            "   2  x  11  =  22\n",
            "   2  x  12  =  24\n",
            "the inner loop is end\n",
            "now name1 = 3\n",
            "   3  x  1  =  3\n",
            "   3  x  2  =  6\n",
            "   3  x  3  =  9\n",
            "   3  x  4  =  12\n",
            "   3  x  5  =  15\n",
            "   3  x  6  =  18\n",
            "   3  x  7  =  21\n",
            "   3  x  8  =  24\n",
            "   3  x  9  =  27\n",
            "   3  x  10  =  30\n",
            "   3  x  11  =  33\n",
            "   3  x  12  =  36\n",
            "the inner loop is end\n",
            "now name1 = 4\n",
            "   4  x  1  =  4\n",
            "   4  x  2  =  8\n",
            "   4  x  3  =  12\n",
            "   4  x  4  =  16\n",
            "   4  x  5  =  20\n",
            "   4  x  6  =  24\n",
            "   4  x  7  =  28\n",
            "   4  x  8  =  32\n",
            "   4  x  9  =  36\n",
            "   4  x  10  =  40\n",
            "   4  x  11  =  44\n",
            "   4  x  12  =  48\n",
            "the inner loop is end\n"
          ]
        }
      ]
    },
    {
      "cell_type": "markdown",
      "source": [
        "#Quiz 7 วนลูป แสดงค่า ตัวเลขออกมาเป็นสามเหลี่ยมตามตัวอย่างนี้\n",
        "\n",
        "ex:\n",
        "\n",
        "1\n",
        "\n",
        "2 4\n",
        "\n",
        "3 6 9\n",
        "\n",
        "4 8 12 16\n",
        "\n",
        "5 10 15 20 25\n"
      ],
      "metadata": {
        "id": "fF3WDW0LCsGS"
      }
    },
    {
      "cell_type": "code",
      "source": [
        "# prompt: วนลูป แสดงค่า ตัวเลขออกมาเป็นสามเหลี่ยมตามตัวอย่างนี้\n",
        "# ex:\n",
        "# 1\n",
        "# 2 4\n",
        "# 3 6 9\n",
        "# 4 8 12 16\n",
        "# 5 10 15 20 25\n",
        "\n",
        "for i in range(1, 6):\n",
        "    for j in range(1, i + 1):\n",
        "        print(i * j, end=\" \")\n",
        "    print()\n"
      ],
      "metadata": {
        "colab": {
          "base_uri": "https://localhost:8080/"
        },
        "id": "IfJq59IIClar",
        "outputId": "1b2b2bd8-63f0-4066-f503-39391a736b45"
      },
      "execution_count": null,
      "outputs": [
        {
          "output_type": "stream",
          "name": "stdout",
          "text": [
            "1 \n",
            "2 4 \n",
            "3 6 9 \n",
            "4 8 12 16 \n",
            "5 10 15 20 25 \n"
          ]
        }
      ]
    },
    {
      "cell_type": "code",
      "source": [
        "#chatgpt\n",
        "rows = 5  # จำนวนแถว\n",
        "\n",
        "for i in range(1, rows + 1):        # วนลูปตามจำนวนแถว\n",
        "    for j in range(1, i + 1):       # วนลูปตามจำนวนตัวเลขในแต่ละแถว\n",
        "        print(i * j, end=' ')       # แสดงผล i * j\n",
        "    print()                         # ขึ้นบรรทัดใหม่\n"
      ],
      "metadata": {
        "colab": {
          "base_uri": "https://localhost:8080/"
        },
        "id": "ZYdsltUjDZjL",
        "outputId": "ba834ae6-7cbe-4182-ff7f-7f10e4821ff6"
      },
      "execution_count": null,
      "outputs": [
        {
          "output_type": "stream",
          "name": "stdout",
          "text": [
            "1 \n",
            "2 4 \n",
            "3 6 9 \n",
            "4 8 12 16 \n",
            "5 10 15 20 25 \n"
          ]
        }
      ]
    },
    {
      "cell_type": "markdown",
      "metadata": {
        "id": "7-FAZit8bPqi"
      },
      "source": [
        "### loop in function\n",
        "#### การวนลูปในฟังก์ชั่น¶"
      ]
    },
    {
      "cell_type": "code",
      "metadata": {
        "id": "S0r5yhbDbPqi"
      },
      "source": [
        "def print_feelings(I,friendS,feeling = 'คิดถึง'):\n",
        "    for friend in friendS:\n",
        "        print(f'{I} {feeling} {friend}')"
      ],
      "execution_count": null,
      "outputs": []
    },
    {
      "cell_type": "code",
      "metadata": {
        "id": "_oVKj4SRfGS6"
      },
      "source": [
        "list_friends = ['คุณหนูเบียร์','พ่อใหญ่เฟิร์ส','อ้ายสีหนุ่ม','จ่าหนึ่ง','บักโส']"
      ],
      "execution_count": null,
      "outputs": []
    },
    {
      "cell_type": "code",
      "source": [
        "print_feelings('แก้ม','พ่อใหญ่เฟิร์ส')"
      ],
      "metadata": {
        "colab": {
          "base_uri": "https://localhost:8080/"
        },
        "id": "2g2Zaug2HYLK",
        "outputId": "4f7ccbd8-3500-4c76-8c66-4347e2de3434"
      },
      "execution_count": null,
      "outputs": [
        {
          "output_type": "stream",
          "name": "stdout",
          "text": [
            "แก้ม คิดถึง พ\n",
            "แก้ม คิดถึง ่\n",
            "แก้ม คิดถึง อ\n",
            "แก้ม คิดถึง ใ\n",
            "แก้ม คิดถึง ห\n",
            "แก้ม คิดถึง ญ\n",
            "แก้ม คิดถึง ่\n",
            "แก้ม คิดถึง เ\n",
            "แก้ม คิดถึง ฟ\n",
            "แก้ม คิดถึง ิ\n",
            "แก้ม คิดถึง ร\n",
            "แก้ม คิดถึง ์\n",
            "แก้ม คิดถึง ส\n"
          ]
        }
      ]
    },
    {
      "cell_type": "code",
      "metadata": {
        "id": "RepVZqu6bPqi",
        "outputId": "45954e69-dcaf-45b7-927d-069c533dc0e0",
        "colab": {
          "base_uri": "https://localhost:8080/"
        }
      },
      "source": [
        "print_feelings('แก้ม',list_friends)"
      ],
      "execution_count": null,
      "outputs": [
        {
          "output_type": "stream",
          "name": "stdout",
          "text": [
            "แก้ม คิดถึง คุณหนูเบียร์\n",
            "แก้ม คิดถึง พ่อใหญ่เฟิร์ส\n",
            "แก้ม คิดถึง อ้ายสีหนุ่ม\n",
            "แก้ม คิดถึง จ่าหนึ่ง\n",
            "แก้ม คิดถึง บักโส\n"
          ]
        }
      ]
    },
    {
      "cell_type": "code",
      "metadata": {
        "id": "P20pDnVaf2vK",
        "outputId": "5427cdd1-3b0e-4648-e9f4-85285cfbba38",
        "colab": {
          "base_uri": "https://localhost:8080/"
        }
      },
      "source": [
        "print_feelings('แก้ม',list_friends,feeling='รัก')"
      ],
      "execution_count": null,
      "outputs": [
        {
          "output_type": "stream",
          "name": "stdout",
          "text": [
            "แก้ม รัก คุณหนูเบียร์\n",
            "แก้ม รัก พ่อใหญ่เฟิร์ส\n",
            "แก้ม รัก อ้ายสีหนุ่ม\n",
            "แก้ม รัก จ่าหนึ่ง\n",
            "แก้ม รัก บักโส\n"
          ]
        }
      ]
    },
    {
      "cell_type": "code",
      "metadata": {
        "id": "SzHamL8JhKG4",
        "outputId": "5c4b7796-1124-4d3b-e2bf-cde5eea44ab6",
        "colab": {
          "base_uri": "https://localhost:8080/"
        }
      },
      "source": [
        "print_feelings('แก้ม',list_friends,'รัก')"
      ],
      "execution_count": null,
      "outputs": [
        {
          "output_type": "stream",
          "name": "stdout",
          "text": [
            "แก้ม รัก คุณหนูเบียร์\n",
            "แก้ม รัก พ่อใหญ่เฟิร์ส\n",
            "แก้ม รัก อ้ายสีหนุ่ม\n",
            "แก้ม รัก จ่าหนึ่ง\n",
            "แก้ม รัก บักโส\n"
          ]
        }
      ]
    },
    {
      "cell_type": "code",
      "source": [
        "print_feelings('แก้ม',list_friends,feeling='ซัง')"
      ],
      "metadata": {
        "colab": {
          "base_uri": "https://localhost:8080/"
        },
        "id": "EDuEcir6HtWz",
        "outputId": "0e887dee-ce84-4682-d369-df5b8a3c3249"
      },
      "execution_count": null,
      "outputs": [
        {
          "output_type": "stream",
          "name": "stdout",
          "text": [
            "แก้ม ซัง คุณหนูเบียร์\n",
            "แก้ม ซัง พ่อใหญ่เฟิร์ส\n",
            "แก้ม ซัง อ้ายสีหนุ่ม\n",
            "แก้ม ซัง จ่าหนึ่ง\n",
            "แก้ม ซัง บักโส\n"
          ]
        }
      ]
    },
    {
      "cell_type": "markdown",
      "source": [
        "จบ 24 มิย 67"
      ],
      "metadata": {
        "id": "GJAB4hnvnAX8"
      }
    },
    {
      "cell_type": "markdown",
      "source": [
        "## Dictionary (Data Structure)\n",
        "\n",
        "โครงสร้างข้อมูลที่จัดเก็บข้อมูลโดยการอ้างอิงโดย text\n",
        "\n",
        "วงเล็บ ```{``` ```}``` Curly Brackets"
      ],
      "metadata": {
        "id": "VreW55vmVRcb"
      }
    },
    {
      "cell_type": "code",
      "source": [
        "Ex_dict_A = {'memberA':[1,2,3],'memberB':8,'memberC':'abc'}"
      ],
      "metadata": {
        "id": "i-oH98ilV1RV"
      },
      "execution_count": null,
      "outputs": []
    },
    {
      "cell_type": "code",
      "source": [
        "Ex_dict_A"
      ],
      "metadata": {
        "colab": {
          "base_uri": "https://localhost:8080/"
        },
        "id": "kIwdnWuqWr58",
        "outputId": "694d94ad-5ac6-47a8-e6d6-01f62d578d9b"
      },
      "execution_count": null,
      "outputs": [
        {
          "output_type": "execute_result",
          "data": {
            "text/plain": [
              "{'memberA': [1, 2, 3], 'memberB': 8, 'memberC': 'abc'}"
            ]
          },
          "metadata": {},
          "execution_count": 2
        }
      ]
    },
    {
      "cell_type": "code",
      "source": [
        "Ex_dict_A['memberA']"
      ],
      "metadata": {
        "colab": {
          "base_uri": "https://localhost:8080/"
        },
        "id": "J4yy6oaXW4he",
        "outputId": "153013bf-f9bd-4cd9-a182-bf13744d02c7"
      },
      "execution_count": null,
      "outputs": [
        {
          "output_type": "execute_result",
          "data": {
            "text/plain": [
              "[1, 2, 3]"
            ]
          },
          "metadata": {},
          "execution_count": 5
        }
      ]
    },
    {
      "cell_type": "code",
      "source": [
        "Ex_dict_A['memberA'][1]"
      ],
      "metadata": {
        "colab": {
          "base_uri": "https://localhost:8080/"
        },
        "id": "cZjtUbdnXZK-",
        "outputId": "0eaa0d49-1a2a-41d6-bb62-7c3252df977f"
      },
      "execution_count": null,
      "outputs": [
        {
          "output_type": "execute_result",
          "data": {
            "text/plain": [
              "2"
            ]
          },
          "metadata": {},
          "execution_count": 6
        }
      ]
    },
    {
      "cell_type": "markdown",
      "metadata": {
        "id": "vwK7RmRJbPqj"
      },
      "source": [
        "### looping in dict\n",
        "#### ทำการวนลูปในค่า dict โดยที่เรากำหนดตัว key และvalueขึ้นมา ได้ดังนี้\n"
      ]
    },
    {
      "cell_type": "code",
      "metadata": {
        "id": "HI0F-4HobPqj",
        "outputId": "886fb971-2cc5-4c6a-cb39-ac007432dc87",
        "colab": {
          "base_uri": "https://localhost:8080/"
        }
      },
      "source": [
        "name_grade = {'พันทิพา' : 'B','ศุภนิตา' : 'C','ปนัดดา' : 'A','ทรงกลด' : 'F'}\n",
        "name_grade"
      ],
      "execution_count": null,
      "outputs": [
        {
          "output_type": "execute_result",
          "data": {
            "text/plain": [
              "{'พันทิพา': 'B', 'ศุภนิตา': 'C', 'ปนัดดา': 'A', 'ทรงกลด': 'F'}"
            ]
          },
          "metadata": {},
          "execution_count": 19
        }
      ]
    },
    {
      "cell_type": "code",
      "metadata": {
        "id": "jWf8aBmpbPqj",
        "outputId": "fe94dd03-8178-4e0b-ca2f-643972d4c40c",
        "colab": {
          "base_uri": "https://localhost:8080/",
          "height": 35
        }
      },
      "source": [
        "name_grade['ปนัดดา']"
      ],
      "execution_count": null,
      "outputs": [
        {
          "output_type": "execute_result",
          "data": {
            "text/plain": [
              "'A'"
            ],
            "application/vnd.google.colaboratory.intrinsic+json": {
              "type": "string"
            }
          },
          "metadata": {},
          "execution_count": 20
        }
      ]
    },
    {
      "cell_type": "code",
      "source": [
        "name_grade.keys()"
      ],
      "metadata": {
        "colab": {
          "base_uri": "https://localhost:8080/"
        },
        "id": "0tXZc6kgYPgm",
        "outputId": "6c1c3d4e-befb-49a7-d698-8a803fda5406"
      },
      "execution_count": null,
      "outputs": [
        {
          "output_type": "execute_result",
          "data": {
            "text/plain": [
              "dict_keys(['พันทิพา', 'ศุภนิตา', 'ปนัดดา', 'ทรงกลด'])"
            ]
          },
          "metadata": {},
          "execution_count": 21
        }
      ]
    },
    {
      "cell_type": "code",
      "source": [
        "name_grade.values()"
      ],
      "metadata": {
        "colab": {
          "base_uri": "https://localhost:8080/"
        },
        "id": "zEqstk33YRxp",
        "outputId": "90b1a461-95ba-4dd0-dced-8bb3775919b4"
      },
      "execution_count": null,
      "outputs": [
        {
          "output_type": "execute_result",
          "data": {
            "text/plain": [
              "dict_values(['B', 'C', 'A', 'F'])"
            ]
          },
          "metadata": {},
          "execution_count": 22
        }
      ]
    },
    {
      "cell_type": "code",
      "metadata": {
        "scrolled": true,
        "id": "eDqhoebhbPqj",
        "outputId": "c49a3c58-c9ab-4afb-918f-e5c59c6e992f",
        "colab": {
          "base_uri": "https://localhost:8080/"
        }
      },
      "source": [
        "for i in name_grade.keys():\n",
        "    print(i)"
      ],
      "execution_count": null,
      "outputs": [
        {
          "output_type": "stream",
          "name": "stdout",
          "text": [
            "พันทิพา\n",
            "ศุภนิตา\n",
            "ปนัดดา\n",
            "ทรงกลด\n"
          ]
        }
      ]
    },
    {
      "cell_type": "code",
      "metadata": {
        "id": "Imvq4faObPqj",
        "outputId": "99f9ed07-b205-4616-9df7-b9fcfdaeaa4e",
        "colab": {
          "base_uri": "https://localhost:8080/"
        }
      },
      "source": [
        "for i in name_grade.keys():\n",
        "    print(f'{i} ได้เกรด {name_grade[i]}')"
      ],
      "execution_count": null,
      "outputs": [
        {
          "output_type": "stream",
          "name": "stdout",
          "text": [
            "พันทิพา ได้เกรด B\n",
            "ศุภนิตา ได้เกรด C\n",
            "ปนัดดา ได้เกรด A\n",
            "ทรงกลด ได้เกรด F\n"
          ]
        }
      ]
    },
    {
      "cell_type": "markdown",
      "source": [
        "ไว้ดู notebook"
      ],
      "metadata": {
        "id": "UT7zbCVsJ4Sd"
      }
    },
    {
      "cell_type": "markdown",
      "source": [
        "## HW2 Example"
      ],
      "metadata": {
        "id": "CrnK1_WPaYv7"
      }
    },
    {
      "cell_type": "code",
      "source": [
        "time_list =  [\n",
        "    [\"18:09:10\", \"18:25:10\"],\n",
        "    [\"13:38:39\", \"23:54:39\"],\n",
        "    [\"16:49:58\", \"18:05:58\"],\n",
        "    [\"21:49:10\", \"22:24:10\"],\n",
        "    [\"08:52:21\", \"09:25:21\"],\n",
        "    [\"06:56:26\", \"07:49:26\"],\n",
        "    [\"12:08:05\", \"12:43:05\"],\n",
        "    [\"01:48:38\", \"07:18:38\"],\n",
        "    [\"08:51:21\", \"10:17:21\"],\n",
        "    [\"17:05:17\", \"18:09:17\"]]\n",
        "\n",
        "def time_to_second(time1,time2):\n",
        "    time1_list = time1.split(':')\n",
        "    time2_list = time2.split(':')\n",
        "    time1_sec = int(time1_list[0])*3600 + int(time1_list[1])*60 + int(time1_list[2])\n",
        "    time2_sec = int(time2_list[0])*3600 + int(time2_list[1])*60 + int(time2_list[2])\n",
        "    return(time2_sec - time1_sec)\n",
        "\n",
        "for time1,time2 in time_list:\n",
        "  diff_seconds = time_to_second(time1,time2)\n",
        "  print(f\"Time difference between {time1} - {time2} is {diff_seconds} seconds\")"
      ],
      "metadata": {
        "colab": {
          "base_uri": "https://localhost:8080/"
        },
        "id": "BqYhLFc5aYa2",
        "outputId": "e1923fde-79ba-46c1-bfbb-2b1e0c6ee36d"
      },
      "execution_count": null,
      "outputs": [
        {
          "output_type": "stream",
          "name": "stdout",
          "text": [
            "Time difference between 18:09:10 - 18:25:10 is 960 seconds\n",
            "Time difference between 13:38:39 - 23:54:39 is 36960 seconds\n",
            "Time difference between 16:49:58 - 18:05:58 is 4560 seconds\n",
            "Time difference between 21:49:10 - 22:24:10 is 2100 seconds\n",
            "Time difference between 08:52:21 - 09:25:21 is 1980 seconds\n",
            "Time difference between 06:56:26 - 07:49:26 is 3180 seconds\n",
            "Time difference between 12:08:05 - 12:43:05 is 2100 seconds\n",
            "Time difference between 01:48:38 - 07:18:38 is 19800 seconds\n",
            "Time difference between 08:51:21 - 10:17:21 is 5160 seconds\n",
            "Time difference between 17:05:17 - 18:09:17 is 3840 seconds\n"
          ]
        }
      ]
    },
    {
      "cell_type": "code",
      "source": [
        "time1 = \"18:09:10\"\n",
        "time2 = \"00:25:10\"\n",
        "diff_seconds = time_to_second(time1,time2)\n",
        "print(f\"Time difference between {time1} - {time2} is {diff_seconds} seconds\")"
      ],
      "metadata": {
        "colab": {
          "base_uri": "https://localhost:8080/"
        },
        "id": "lbz-CNPlbGYq",
        "outputId": "08e90382-076c-4584-9371-967040eb2a68"
      },
      "execution_count": null,
      "outputs": [
        {
          "output_type": "stream",
          "name": "stdout",
          "text": [
            "Time difference between 18:09:10 - 00:25:10 is -63840 seconds\n"
          ]
        }
      ]
    },
    {
      "cell_type": "markdown",
      "source": [
        "#ตัวอย่าง Quiz 6"
      ],
      "metadata": {
        "id": "ciwNStWFQQm8"
      }
    },
    {
      "cell_type": "code",
      "source": [
        "from datetime import datetime, timedelta\n",
        "\n",
        "def time_difference_in_seconds(time_str1, weekday1, time_str2, weekday2):\n",
        "  \"\"\"\n",
        "  คำนวณความแตกต่างของเวลาในหน่วยวินาทีระหว่างสองเวลาและวันในสัปดาห์\n",
        "\n",
        "  Args:\n",
        "    time_str1: สตริงเวลาในรูปแบบ 'hh:mm:ss' สำหรับเวลาแรก\n",
        "    weekday1: วันในสัปดาห์สำหรับเวลาแรก (0=วันจันทร์, 6=วันอาทิตย์)\n",
        "    time_str2: สตริงเวลาในรูปแบบ 'hh:mm:ss' สำหรับเวลาที่สอง\n",
        "    weekday2: วันในสัปดาห์สำหรับเวลาที่สอง (0=วันจันทร์, 6=วันอาทิตย์)\n",
        "\n",
        "  Returns:\n",
        "    จำนวนวินาทีที่แตกต่างกัน\n",
        "  \"\"\"\n",
        "  day = {'Monday':0, 'Tuesday':1, 'Wednesday':2, 'Thursday':3, 'Friday':4, 'Saturday':5, 'Sunday':6}\n",
        "  # Mapping weekdays to a common reference point (e.g., seconds from the beginning of the week)\n",
        "  seconds_per_day = 24 * 3600\n",
        "\n",
        "  def parse_time_and_weekday(time_str, weekday):\n",
        "    h, m, s = map(int, time_str.split(':'))\n",
        "    # Calculate total seconds from the beginning of the week\n",
        "    total_seconds = weekday * seconds_per_day + h * 3600 + m * 60 + s\n",
        "    return total_seconds\n",
        "\n",
        "  total_seconds1 = parse_time_and_weekday(time_str1, day[weekday1])\n",
        "  total_seconds2 = parse_time_and_weekday(time_str2, day[weekday2])\n",
        "\n",
        "  return abs(total_seconds1 - total_seconds2)\n",
        "\n",
        "# Example usage:\n",
        "time1 = \"10:00:00\"\n",
        "day1 = 'Tuesday'\n",
        "time2 = \"11:30:00\"\n",
        "day2 = 'Thursday'\n",
        "\n",
        "diff_seconds = time_difference_in_seconds(time1, day1, time2, day2)\n",
        "print(f\"ความแตกต่างของเวลาระหว่าง {time1} วัน {day1} และ {time2} วัน {day2} คือ {diff_seconds} วินาที\")\n",
        "\n",
        "time3 = \"23:00:00\"\n",
        "day3 = 'Sunday'\n",
        "time4 = \"01:00:00\"\n",
        "day4 = 'Monday'\n",
        "\n",
        "diff_seconds2 = time_difference_in_seconds(time3, day3, time4, day4)\n",
        "print(f\"ความแตกต่างของเวลาระหว่าง {time3} วัน {day3} และ {time4} วัน {day4} คือ {diff_seconds2} วินาที\")"
      ],
      "metadata": {
        "colab": {
          "base_uri": "https://localhost:8080/"
        },
        "id": "7fqf9BBJae0h",
        "outputId": "8ec93f49-2097-4c2e-c8aa-d6b5618fa963"
      },
      "execution_count": null,
      "outputs": [
        {
          "output_type": "stream",
          "name": "stdout",
          "text": [
            "ความแตกต่างของเวลาระหว่าง 10:00:00 วัน Tuesday และ 11:30:00 วัน Thursday คือ 178200 วินาที\n",
            "ความแตกต่างของเวลาระหว่าง 23:00:00 วัน Sunday และ 01:00:00 วัน Monday คือ 597600 วินาที\n"
          ]
        }
      ]
    },
    {
      "cell_type": "markdown",
      "source": [
        "# HW 3 เพิ่ม  loop เข้าไปใน Quiz 6 โดยวนลูป คำนวณ วินาที ในโจทย์ ต่อไปนี้\n",
        "\n",
        "\n",
        "    (\"10:00:00\", \"Monday\", \"11:30:00\", 5400),  # Same day, later time\n",
        "    \n",
        "    (\"11:30:00\", \"Monday\", \"10:00:00\", \"Monday\", 5400),  # Same day, earlier time\n",
        "    \n",
        "    (\"23:00:00\", \"Sunday\", \"01:00:00\", , 7200),  # Cross midnight\n",
        "    \n",
        "    (\"01:00:00\", \"Monday\", \"23:00:00\", \"Sunday\", 7200),  # Cross midnight (reverse)\n",
        "    \n",
        "    (\"10:00:00\", \"Tuesday\", \"11:30:00\", \"Thursday\", 178200), # Multiple days difference\n",
        "    \n",
        "    (\"11:30:00\", \"Thursday\", \"10:00:00\", \"Tuesday\", 178200), # Multiple days difference (reverse)\n",
        "    \n",
        "    (\"12:00:00\", \"Monday\", \"12:00:00\", \"Monday\", 0),      # Same time, same day\n",
        "    \n",
        "    (\"12:00:00\", \"Monday\", \"12:00:00\", \"Tuesday\", 24*3600), # Same time, next day\n",
        "    \n",
        "    (\"00:00:00\", \"Monday\", \"23:59:59\", , 24*3600 - 1), # Almost 24 hours later\n",
        "    \n",
        "    (\"23:59:59\", \"Sunday\", \"00:00:00\", \"Monday\", 1),       # One second difference across midnight\n"
      ],
      "metadata": {
        "id": "kE9rg2tWS4U-"
      }
    },
    {
      "cell_type": "code",
      "source": [
        "def time_difference_in_seconds(time_str1, weekday1, time_str2, weekday2=None):\n",
        "    \"\"\"\n",
        "    คำนวณความแตกต่างของเวลาในหน่วยวินาทีระหว่างสองเวลาและวันในสัปดาห์\n",
        "\n",
        "    Args:\n",
        "      time_str1: สตริงเวลาในรูปแบบ 'hh:mm:ss' สำหรับเวลาแรก\n",
        "      weekday1: วันในสัปดาห์สำหรับเวลาแรก (เป็นชื่อ เช่น 'Monday')\n",
        "      time_str2: สตริงเวลาในรูปแบบ 'hh:mm:ss' สำหรับเวลาที่สอง\n",
        "      weekday2: วันในสัปดาห์สำหรับเวลาที่สอง (เป็นชื่อ เช่น 'Monday')\n",
        "\n",
        "    Returns:\n",
        "      จำนวนวินาทีที่แตกต่างกัน\n",
        "    \"\"\"\n",
        "    # กำหนดค่าตัวเลขให้กับแต่ละวันในสัปดาห์ โดย Monday เป็น 0\n",
        "    day = {'Monday': 0, 'Tuesday': 1, 'Wednesday': 2, 'Thursday': 3,\n",
        "           'Friday': 4, 'Saturday': 5, 'Sunday': 6}\n",
        "    # จำนวนวินาทีในหนึ่งวัน\n",
        "    seconds_per_day = 24 * 3600\n",
        "\n",
        "    def parse_time_and_weekday(time_str, weekday_index):\n",
        "        \"\"\"\n",
        "        แปลงสตริงเวลาและดัชนีวันในสัปดาห์ให้เป็นจำนวนวินาทีทั้งหมดนับจากเริ่มต้นสัปดาห์ (Monday 00:00:00)\n",
        "        \"\"\"\n",
        "        h, m, s = map(int, time_str.split(':'))\n",
        "        # คำนวณวินาทีทั้งหมด: (จำนวนวัน * วินาทีต่อวัน) + (ชั่วโมง * 3600) + (นาที * 60) + วินาที\n",
        "        total_seconds = weekday_index * seconds_per_day + h * 3600 + m * 60 + s\n",
        "        return total_seconds\n",
        "\n",
        "    # หากไม่ได้ระบุ weekday2 ให้ใช้ weekday1\n",
        "    if weekday2 is None:\n",
        "        weekday2 = weekday1\n",
        "\n",
        "    # แปลงเวลาและวันแรกเป็นวินาทีทั้งหมด\n",
        "    total_seconds1 = parse_time_and_weekday(time_str1, day[weekday1])\n",
        "    # แปลงเวลาและวันที่สองเป็นวินาทีทั้งหมด\n",
        "    total_seconds2 = parse_time_and_weekday(time_str2, day[weekday2])\n",
        "\n",
        "    # คำนวณผลต่างสัมบูรณ์ของวินาที\n",
        "    # Handle cases where the difference spans across the start of the week (Monday 00:00:00)\n",
        "    # If the difference is greater than half a week, assume it's in the other direction\n",
        "    # This handles cases like Sunday 23:00:00 to Monday 01:00:00\n",
        "    diff = abs(total_seconds1 - total_seconds2)\n",
        "    if diff > 3.5 * seconds_per_day:  # More than half a week\n",
        "        diff = 7 * seconds_per_day - diff\n",
        "\n",
        "    return diff\n",
        "\n",
        "\n",
        "# ชุดทดสอบ\n",
        "test_cases = [\n",
        "    (\"10:00:00\", \"Monday\", \"11:30:00\", \"Monday\", 5400),\n",
        "    (\"11:30:00\", \"Monday\", \"10:00:00\", \"Monday\", 5400),\n",
        "    (\"23:00:00\", \"Sunday\", \"01:00:00\", \"Monday\", 7200),\n",
        "    (\"01:00:00\", \"Monday\", \"23:00:00\", \"Sunday\", 7200),\n",
        "    (\"10:00:00\", \"Tuesday\", \"11:30:00\", \"Thursday\", 178200),\n",
        "    (\"11:30:00\", \"Thursday\", \"10:00:00\", \"Tuesday\", 178200),\n",
        "    (\"12:00:00\", \"Monday\", \"12:00:00\", \"Monday\", 0),\n",
        "    (\"12:00:00\", \"Monday\", \"12:00:00\", \"Tuesday\", 86400),\n",
        "    (\"00:00:00\", \"Monday\", \"23:59:59\", \"Monday\", 86399),\n",
        "    (\"23:59:59\", \"Sunday\", \"00:00:00\", \"Monday\", 1),\n",
        "]\n",
        "\n",
        "# วนลูปทดสอบและแสดงผลลัพธ์\n",
        "for i, (t1, d1, t2, d2, expected) in enumerate(test_cases, 1):\n",
        "    result = time_difference_in_seconds(t1, d1, t2, d2)\n",
        "    status = \"✅\" if result == expected else f\"❌ (Expected {expected})\"\n",
        "    print(f\"Test {i}: {t1} {d1} - {t2} {d2} = {result} seconds {status}\")"
      ],
      "metadata": {
        "id": "bi6IwTh0dKO9",
        "outputId": "b226119f-7a47-4ac9-a4c6-7c8bbdfa8006",
        "colab": {
          "base_uri": "https://localhost:8080/"
        }
      },
      "execution_count": null,
      "outputs": [
        {
          "output_type": "stream",
          "name": "stdout",
          "text": [
            "Test 1: 10:00:00 Monday - 11:30:00 Monday = 5400 seconds ✅\n",
            "Test 2: 11:30:00 Monday - 10:00:00 Monday = 5400 seconds ✅\n",
            "Test 3: 23:00:00 Sunday - 01:00:00 Monday = 7200 seconds ✅\n",
            "Test 4: 01:00:00 Monday - 23:00:00 Sunday = 7200 seconds ✅\n",
            "Test 5: 10:00:00 Tuesday - 11:30:00 Thursday = 178200 seconds ✅\n",
            "Test 6: 11:30:00 Thursday - 10:00:00 Tuesday = 178200 seconds ✅\n",
            "Test 7: 12:00:00 Monday - 12:00:00 Monday = 0 seconds ✅\n",
            "Test 8: 12:00:00 Monday - 12:00:00 Tuesday = 86400 seconds ✅\n",
            "Test 9: 00:00:00 Monday - 23:59:59 Monday = 86399 seconds ✅\n",
            "Test 10: 23:59:59 Sunday - 00:00:00 Monday = 1 seconds ✅\n"
          ]
        }
      ]
    },
    {
      "cell_type": "markdown",
      "metadata": {
        "id": "pLDGW8IobPqk"
      },
      "source": [
        "# Conditional statemet คือ ประโยคเงื่อนไข"
      ]
    },
    {
      "cell_type": "markdown",
      "source": [
        "ชนิดตัวแปรที่เกี่ยวข้อ Boolean (True,False)"
      ],
      "metadata": {
        "id": "TvK12jMwcVp8"
      }
    },
    {
      "cell_type": "code",
      "source": [
        "condition_1 = True\n",
        "condition_2 = False"
      ],
      "metadata": {
        "id": "JWxlKa-icUk6"
      },
      "execution_count": null,
      "outputs": []
    },
    {
      "cell_type": "markdown",
      "metadata": {
        "id": "8_-zCLkrbPqk"
      },
      "source": [
        "### การวนลูปโดยมีเงื่อนไขต่างๆมาเกี่ยวข้อง โดยมี pattern ดังนี้\n"
      ]
    },
    {
      "cell_type": "markdown",
      "metadata": {
        "id": "ZQuWb-bybPqk"
      },
      "source": [
        "```Python\n",
        "if condition1 :\n",
        "    do something\n",
        "elif condition2 :  #elif คือ else if\n",
        "    do another thing\n",
        "else:\n",
        "    do ...\n",
        "```\n",
        "    "
      ]
    },
    {
      "cell_type": "markdown",
      "metadata": {
        "id": "kUPdCRG7bPqk"
      },
      "source": [
        "## ==, !=,>=,<=,<,> Operator ของตัวเลข"
      ]
    },
    {
      "cell_type": "code",
      "source": [
        "def time_to_second(time1):\n",
        "    time1_list = time1.split(':')\n",
        "    time1_sec = int(time1_list[0])*3600 + int(time1_list[1])*60 + int(time1_list[2])\n",
        "    return time1_sec"
      ],
      "metadata": {
        "id": "9NIOIupSd_Zn"
      },
      "execution_count": 1,
      "outputs": []
    },
    {
      "cell_type": "code",
      "source": [
        "time_list =  [\n",
        "    [\"18:09:10\", \"18:25:10\"],\n",
        "    [\"13:38:39\", \"23:54:39\"],[\"16:49:58\", \"18:05:58\"],\n",
        "    [\"21:49:10\", \"22:24:10\"],[\"08:52:21\", \"09:25:21\"],\n",
        "    [\"06:56:26\", \"07:49:26\"],[\"12:08:05\", \"12:43:05\"],\n",
        "    [\"01:48:38\", \"07:18:38\"],[\"08:51:21\", \"10:17:21\"],\n",
        "    [\"17:05:17\", \"18:09:17\"],[\"18:51:21\", \"00:17:21\"],\n",
        "    [\"17:05:17\", \"11:09:17\"],]"
      ],
      "metadata": {
        "id": "CYcYQJ45d8Wx"
      },
      "execution_count": 2,
      "outputs": []
    },
    {
      "cell_type": "code",
      "source": [
        "for time1,time2 in time_list:\n",
        "\n",
        "    if time_to_second(time1) < time_to_second(time2): #ถ้า time1 น้อยกว่า time2\n",
        "        diff_seconds = time_to_second(time2) - time_to_second(time1)\n",
        "    else: #ถ้า time1 ไม่น้อยกว่า time2\n",
        "        diff_seconds = (time_to_second(time2)+(24*60*60)) - time_to_second(time1)\n",
        "\n",
        "    print(f\"Time difference between {time1} - {time2} is {diff_seconds} seconds\")"
      ],
      "metadata": {
        "colab": {
          "base_uri": "https://localhost:8080/"
        },
        "id": "sv-1il2_dmvv",
        "outputId": "95fb9ae1-f316-44eb-f919-70804c46092b"
      },
      "execution_count": 3,
      "outputs": [
        {
          "output_type": "stream",
          "name": "stdout",
          "text": [
            "Time difference between 18:09:10 - 18:25:10 is 960 seconds\n",
            "Time difference between 13:38:39 - 23:54:39 is 36960 seconds\n",
            "Time difference between 16:49:58 - 18:05:58 is 4560 seconds\n",
            "Time difference between 21:49:10 - 22:24:10 is 2100 seconds\n",
            "Time difference between 08:52:21 - 09:25:21 is 1980 seconds\n",
            "Time difference between 06:56:26 - 07:49:26 is 3180 seconds\n",
            "Time difference between 12:08:05 - 12:43:05 is 2100 seconds\n",
            "Time difference between 01:48:38 - 07:18:38 is 19800 seconds\n",
            "Time difference between 08:51:21 - 10:17:21 is 5160 seconds\n",
            "Time difference between 17:05:17 - 18:09:17 is 3840 seconds\n",
            "Time difference between 18:51:21 - 00:17:21 is 19560 seconds\n",
            "Time difference between 17:05:17 - 11:09:17 is 65040 seconds\n"
          ]
        }
      ]
    },
    {
      "cell_type": "markdown",
      "source": [
        "## ```&```, ```|```, ```in```, ```is```   :  Operator อื่นๆ"
      ],
      "metadata": {
        "id": "HSMQXdmmipMp"
      }
    },
    {
      "cell_type": "code",
      "source": [
        "a = 2 < 3\n",
        "print(a)"
      ],
      "metadata": {
        "colab": {
          "base_uri": "https://localhost:8080/"
        },
        "id": "C0OZTmlwRsIb",
        "outputId": "2bbfa200-d227-49bb-b8a1-fc6154ed7220"
      },
      "execution_count": 4,
      "outputs": [
        {
          "output_type": "stream",
          "name": "stdout",
          "text": [
            "True\n"
          ]
        }
      ]
    },
    {
      "cell_type": "code",
      "source": [
        "b = 7 in range(7)\n",
        "print(b)"
      ],
      "metadata": {
        "colab": {
          "base_uri": "https://localhost:8080/"
        },
        "id": "Ae895k6sR2zs",
        "outputId": "e8f0ea78-b451-40a1-a1c9-8f67f780767a"
      },
      "execution_count": 6,
      "outputs": [
        {
          "output_type": "stream",
          "name": "stdout",
          "text": [
            "False\n"
          ]
        }
      ]
    },
    {
      "cell_type": "code",
      "source": [
        "a & b"
      ],
      "metadata": {
        "colab": {
          "base_uri": "https://localhost:8080/"
        },
        "id": "9sCrs47vSZHi",
        "outputId": "ebd33267-d84f-438f-ec97-7daff804db24"
      },
      "execution_count": 7,
      "outputs": [
        {
          "output_type": "execute_result",
          "data": {
            "text/plain": [
              "False"
            ]
          },
          "metadata": {},
          "execution_count": 7
        }
      ]
    },
    {
      "cell_type": "code",
      "source": [
        "a | b"
      ],
      "metadata": {
        "colab": {
          "base_uri": "https://localhost:8080/"
        },
        "id": "DKg09wElSh-M",
        "outputId": "598f873c-9823-457d-cb9e-7aea018aee0f"
      },
      "execution_count": 8,
      "outputs": [
        {
          "output_type": "execute_result",
          "data": {
            "text/plain": [
              "True"
            ]
          },
          "metadata": {},
          "execution_count": 8
        }
      ]
    },
    {
      "cell_type": "code",
      "source": [
        "if 2 < 3 & 7 in range(10):\n",
        "    print('yes')"
      ],
      "metadata": {
        "colab": {
          "base_uri": "https://localhost:8080/"
        },
        "id": "z76wF_kaSmCM",
        "outputId": "de7cfec1-2e91-46c2-c9e7-92e6ecc188f9"
      },
      "execution_count": 9,
      "outputs": [
        {
          "output_type": "stream",
          "name": "stdout",
          "text": [
            "yes\n"
          ]
        }
      ]
    },
    {
      "cell_type": "code",
      "source": [
        "if (1>0) & (0>-1):\n",
        "    print(True & True)"
      ],
      "metadata": {
        "id": "ES5d1z0ti306",
        "outputId": "e57f1056-7b5c-4a2b-e729-e22270c60bb6",
        "colab": {
          "base_uri": "https://localhost:8080/"
        }
      },
      "execution_count": 10,
      "outputs": [
        {
          "output_type": "stream",
          "name": "stdout",
          "text": [
            "True\n"
          ]
        }
      ]
    },
    {
      "cell_type": "code",
      "source": [
        "if 'C' in 'Chayada':\n",
        "    print('C in Chayada')"
      ],
      "metadata": {
        "id": "3COnyOTKipAc",
        "outputId": "16e19b2f-23cb-466e-a329-f0e0f7aac986",
        "colab": {
          "base_uri": "https://localhost:8080/"
        }
      },
      "execution_count": 11,
      "outputs": [
        {
          "output_type": "stream",
          "name": "stdout",
          "text": [
            "C in Chayada\n"
          ]
        }
      ]
    },
    {
      "cell_type": "markdown",
      "source": [
        "# break คือ ออกจาก loop"
      ],
      "metadata": {
        "id": "3-q8n1xpTn4S"
      }
    },
    {
      "cell_type": "code",
      "source": [
        "numbers = [0, 2, 8, 24, 5, 60, 70, 81, 9, 10]\n",
        "#สร้าง function ตรวจสอบว่าใน list มีเลขคี่ หรือเปล่า\n",
        "def check_odd_in_list(input_list):\n",
        "  for i in input_list:\n",
        "    if i % 2 == 1:\n",
        "      print(f'มีเลขคี่ คือ {i}')\n",
        "      break\n",
        "  print('ไม่มีเลขคี่ ')\n",
        "check_odd_in_list(numbers)"
      ],
      "metadata": {
        "id": "y1ET-H8ylyxP",
        "colab": {
          "base_uri": "https://localhost:8080/"
        },
        "outputId": "62a4d26c-d649-4932-87ee-fe85af8ceda0"
      },
      "execution_count": 21,
      "outputs": [
        {
          "output_type": "stream",
          "name": "stdout",
          "text": [
            "มีเลขคี่ คือ 5\n",
            "ไม่มีเลขคี่ \n"
          ]
        }
      ]
    },
    {
      "cell_type": "code",
      "source": [
        "numbers = [0, 2, 8, 24, 5, 60, 70, 81, 9, 10]\n",
        "#สร้าง function ตรวจสอบว่าใน list มีเลขคี่ หรือเปล่า\n",
        "def check_odd_in_list(input_list):\n",
        "  for i in input_list:\n",
        "    if i % 2 == 1:\n",
        "      print(f'มีเลขคี่ คือ {i}')\n",
        "      return\n",
        "  print('ไม่มีเลขคี่ ')\n",
        "  return input_list\n",
        "\n",
        "check_odd_in_list(numbers)\n",
        "check_odd_in_list([0, 2, 8, 24])"
      ],
      "metadata": {
        "colab": {
          "base_uri": "https://localhost:8080/"
        },
        "id": "pXO5lp8RWrWD",
        "outputId": "27911710-7eb9-4d89-e0a4-da2489c091c3"
      },
      "execution_count": 27,
      "outputs": [
        {
          "output_type": "stream",
          "name": "stdout",
          "text": [
            "มีเลขคี่ คือ 5\n",
            "ไม่มีเลขคี่ \n"
          ]
        },
        {
          "output_type": "execute_result",
          "data": {
            "text/plain": [
              "[0, 2, 8, 24]"
            ]
          },
          "metadata": {},
          "execution_count": 27
        }
      ]
    },
    {
      "cell_type": "markdown",
      "metadata": {
        "id": "Bg3vVE3GbPqn"
      },
      "source": [
        "# Finish"
      ]
    }
  ]
}